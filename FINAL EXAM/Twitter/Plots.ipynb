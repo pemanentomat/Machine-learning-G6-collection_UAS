{
  "nbformat": 4,
  "nbformat_minor": 0,
  "metadata": {
    "colab": {
      "name": "Untitled20.ipynb",
      "provenance": [],
      "authorship_tag": "ABX9TyOlKRdlJTqsjGGkOQkGMa9y"
    },
    "kernelspec": {
      "name": "python3",
      "display_name": "Python 3"
    },
    "language_info": {
      "name": "python"
    }
  },
  "cells": [
    {
      "cell_type": "code",
      "source": [
        "pip install utils"
      ],
      "metadata": {
        "colab": {
          "base_uri": "https://localhost:8080/"
        },
        "id": "Br1rUhX2tbjD",
        "outputId": "f9a8f324-e36f-432d-b067-dffd043dc1e8"
      },
      "execution_count": 1,
      "outputs": [
        {
          "output_type": "stream",
          "name": "stdout",
          "text": [
            "Requirement already satisfied: utils in /usr/local/lib/python3.7/dist-packages (1.0.1)\n"
          ]
        }
      ]
    },
    {
      "cell_type": "code",
      "execution_count": 2,
      "metadata": {
        "id": "VmNGviZts7Rx"
      },
      "outputs": [],
      "source": [
        "import matplotlib.pyplot as plt\n",
        "import numpy as np\n",
        "import utils\n",
        "import pickle\n",
        "%matplotlib inline "
      ]
    },
    {
      "cell_type": "code",
      "source": [
        "FREQ_DIST_FILE = '../train-processed-freqdist.pkl'\n",
        "BI_FREQ_DIST_FILE = '../train-processed-freqdist-bi.pkl'"
      ],
      "metadata": {
        "id": "168vb5f9s78k"
      },
      "execution_count": 3,
      "outputs": []
    },
    {
      "cell_type": "code",
      "source": [
        "with open(FREQ_DIST_FILE, 'rb') as pkl_file:\n",
        "    freq_dist = pickle.load(pkl_file)\n",
        "unigrams = freq_dist.most_common(20)\n",
        "unigrams"
      ],
      "metadata": {
        "colab": {
          "base_uri": "https://localhost:8080/",
          "height": 217
        },
        "id": "eA9fR7THs9Jg",
        "outputId": "b5acf042-00e6-4f1c-d559-26167ec66e1d"
      },
      "execution_count": 4,
      "outputs": [
        {
          "output_type": "error",
          "ename": "FileNotFoundError",
          "evalue": "ignored",
          "traceback": [
            "\u001b[0;31m---------------------------------------------------------------------------\u001b[0m",
            "\u001b[0;31mFileNotFoundError\u001b[0m                         Traceback (most recent call last)",
            "\u001b[0;32m<ipython-input-4-b272e17d072a>\u001b[0m in \u001b[0;36m<module>\u001b[0;34m()\u001b[0m\n\u001b[0;32m----> 1\u001b[0;31m \u001b[0;32mwith\u001b[0m \u001b[0mopen\u001b[0m\u001b[0;34m(\u001b[0m\u001b[0mFREQ_DIST_FILE\u001b[0m\u001b[0;34m,\u001b[0m \u001b[0;34m'rb'\u001b[0m\u001b[0;34m)\u001b[0m \u001b[0;32mas\u001b[0m \u001b[0mpkl_file\u001b[0m\u001b[0;34m:\u001b[0m\u001b[0;34m\u001b[0m\u001b[0;34m\u001b[0m\u001b[0m\n\u001b[0m\u001b[1;32m      2\u001b[0m     \u001b[0mfreq_dist\u001b[0m \u001b[0;34m=\u001b[0m \u001b[0mpickle\u001b[0m\u001b[0;34m.\u001b[0m\u001b[0mload\u001b[0m\u001b[0;34m(\u001b[0m\u001b[0mpkl_file\u001b[0m\u001b[0;34m)\u001b[0m\u001b[0;34m\u001b[0m\u001b[0;34m\u001b[0m\u001b[0m\n\u001b[1;32m      3\u001b[0m \u001b[0munigrams\u001b[0m \u001b[0;34m=\u001b[0m \u001b[0mfreq_dist\u001b[0m\u001b[0;34m.\u001b[0m\u001b[0mmost_common\u001b[0m\u001b[0;34m(\u001b[0m\u001b[0;36m20\u001b[0m\u001b[0;34m)\u001b[0m\u001b[0;34m\u001b[0m\u001b[0;34m\u001b[0m\u001b[0m\n\u001b[1;32m      4\u001b[0m \u001b[0munigrams\u001b[0m\u001b[0;34m\u001b[0m\u001b[0;34m\u001b[0m\u001b[0m\n",
            "\u001b[0;31mFileNotFoundError\u001b[0m: [Errno 2] No such file or directory: '../train-processed-freqdist.pkl'"
          ]
        }
      ]
    },
    {
      "cell_type": "code",
      "source": [
        "plt.figure(1, [10, 7])\n",
        "x = np.array(range(0, 40, 2))\n",
        "y = np.array([i[1] for i in unigrams])\n",
        "my_xticks = [i[0] for i in unigrams]\n",
        "plt.xticks(x, my_xticks, rotation=90)\n",
        "plt.plot(x, y)"
      ],
      "metadata": {
        "id": "X_CaOw7ws-FG"
      },
      "execution_count": null,
      "outputs": []
    },
    {
      "cell_type": "code",
      "source": [
        "with open(BI_FREQ_DIST_FILE, 'rb') as pkl_file:\n",
        "    freq_dist = pickle.load(pkl_file)\n",
        "bigrams = freq_dist.most_common(20)\n",
        "bigrams"
      ],
      "metadata": {
        "id": "VnASbWnTtADA"
      },
      "execution_count": null,
      "outputs": []
    },
    {
      "cell_type": "code",
      "source": [
        "plt.figure(1, [10, 7])\n",
        "x = np.array(range(0, 40, 2))\n",
        "y = np.array([i[1] for i in bigrams])\n",
        "my_xticks = [', '.join(i[0]) for i in bigrams]\n",
        "plt.xticks(x, my_xticks, rotation=90)\n",
        "plt.plot(x, y)"
      ],
      "metadata": {
        "id": "RZn_4QCxtBUe"
      },
      "execution_count": null,
      "outputs": []
    },
    {
      "cell_type": "code",
      "source": [
        "with open(FREQ_DIST_FILE, 'rb') as pkl_file:\n",
        "    freq_dist = pickle.load(pkl_file)\n",
        "unigrams = freq_dist.most_common(100)\n",
        "log_ranks = np.log(range(1, 101))\n",
        "log_freqs = np.log([i[1] for i in unigrams])\n",
        "z = np.polyfit(log_ranks, log_freqs, 1)\n",
        "p = np.poly1d(z)\n",
        "p"
      ],
      "metadata": {
        "id": "XAHR-M3EtCge"
      },
      "execution_count": null,
      "outputs": []
    },
    {
      "cell_type": "code",
      "source": [
        "plt.figure(3, [8,6])\n",
        "plt.plot(log_ranks, log_freqs, 'ro')\n",
        "plt.plot(log_ranks,p(log_ranks),'b-')\n",
        "plt.xlabel('log (Rank)')\n",
        "plt.ylabel('log (Freqeuncy)')\n",
        "plt.title('Zipf\\'s Law')"
      ],
      "metadata": {
        "id": "eyzgoLyYtDsk"
      },
      "execution_count": null,
      "outputs": []
    },
    {
      "cell_type": "code",
      "source": [
        "classifiers = ['Baseline', 'Naive Bayes', 'MaxEnt', 'Decision Tree', 'Random Forest', 'XGBoost', 'SVM', 'MLP', 'LSTM', 'CNN', 'Ensemble']\n",
        "accuracies = [63.48, 79.68, 81.52, 68.1, 77.21, 78.72, 81.55, 81.7, 83.00, 83.34, 83.58]\n",
        "plt.figure(4, [8,6])\n",
        "plt.bar(range(len(classifiers)), accuracies, align='center', alpha=0.5)\n",
        "plt.xticks(range(len(classifiers)), classifiers, rotation=90)\n",
        "plt.ylabel('Accuracy')\n",
        "plt.title('Comparison of Various Classifiers')\n",
        "plt.ylim([60, 90])"
      ],
      "metadata": {
        "id": "4hlfIqbEtE9c"
      },
      "execution_count": null,
      "outputs": []
    }
  ]
}