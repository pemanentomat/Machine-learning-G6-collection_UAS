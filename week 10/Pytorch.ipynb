{
 "cells": [
  {
   "cell_type": "code",
   "execution_count": 1,
   "metadata": {},
   "outputs": [],
   "source": [
    "%matplotlib inline"
   ]
  },
  {
   "cell_type": "markdown",
   "metadata": {},
   "source": [
    "# Pytorch A"
   ]
  },
  {
   "cell_type": "markdown",
   "metadata": {
    "id": "PN8tuW_LKi3k"
   },
   "source": [
    "#0. Working with data"
   ]
  },
  {
   "cell_type": "code",
   "execution_count": 2,
   "metadata": {
    "id": "_2gPFk5zKk38"
   },
   "outputs": [],
   "source": [
    "import torch\n",
    "from torch import nn\n",
    "from torch.utils.data import DataLoader\n",
    "from torchvision import datasets\n",
    "from torchvision.transforms import ToTensor, Lambda, Compose\n",
    "import matplotlib.pyplot as plt"
   ]
  },
  {
   "cell_type": "code",
   "execution_count": 3,
   "metadata": {
    "colab": {
     "base_uri": "https://localhost:8080/",
     "height": 435,
     "referenced_widgets": [
      "4fdc3583039d4d70902c8df8abd46c06",
      "08e2e65ed57945fa8c97c6157bb77608",
      "3ef43833476b46cda2f00fcfd19513a3",
      "44b371b3c3ad4b789d23a5690768ff01",
      "887f39d2b9384d428bf4c9a95999fb30",
      "360144bd0e734988be7bcd28575d393c",
      "f9026654cdfd46cd8bff9cbfb01cb729",
      "854836ee1f344fd7a2d1bf32c025e7d4",
      "2042d69436ad4bb3af09d42599ca4555",
      "57cb5f1df2914df1921a3fc2ab732a5e",
      "280422bbe6304c358a6875a0dc180aa9",
      "3cf7dd0bfe714fc48576345393d69881",
      "82e410e531004695b8638dcd20e4af35",
      "8bd7d9312d9e4e7f95eabf197db99ad4",
      "136b14929c454fb09e1bf0ea87a84637",
      "a7b71cc892fa4a81a4f1dca9109a9fe8",
      "9ce40cbea23743d3a9b0ff793689be00",
      "b09d821e65674d2aa240079f23f9c811",
      "e2a0fae82b3a44e79b6de64c1b833f5a",
      "7aa7eeac7ff74d9cbdcabf16efa2d8a6",
      "02ece3e148bd429d8f0dd32797aff98d",
      "369a279febb549e6bcdd8e944006915b",
      "89c6f78014e3429b8afc1c8a24f80087",
      "908ce280da2c40ee9c9d33c07031f07c",
      "23d64b79530d42efb4bbae770f543375",
      "28f357c20eee4928ac586ded5587c12c",
      "ed9bcac1acef41cf97a5193967749411",
      "0501233f4788462c979038a2cc3d266b",
      "422c81ee5d084ecb9cba341fbf01c059",
      "33f25b17f1284ec7b2def89a03750956",
      "08a4f6bf78eb47aaa9e8c8bfc69d9f22",
      "712e120a87454b85bf3d8cf927ab796c",
      "902511d1272143e1ac4a3b4e7fce230b",
      "c60efc8eab3f4aca82019cba407a1cb8",
      "eea8cff181d04c2681c948a265ea321f",
      "755ac1e6175646f4845c0523bc3e3f19",
      "25676e45e6af45dfbdfad20df6444e21",
      "abe598b8deaf402b9801b9643ff65e95",
      "8aaeca85739540259fd77a5d602df9b3",
      "d65c0c28f4a44d69a24c3b3fb4ae840b",
      "12fa25a4d7834531b51034db743966c2",
      "c0be61a660504e8fa4972500ab0cb904",
      "4801b6a9a5e34aed89e83252b28af24d",
      "b035f9175c7c44a68cd2da11c719c357"
     ]
    },
    "id": "3SrIpw9iKwQU",
    "outputId": "d1e9bd6e-f893-4ece-b4ad-fb48bd50feb9"
   },
   "outputs": [
    {
     "name": "stdout",
     "output_type": "stream",
     "text": [
      "Downloading http://fashion-mnist.s3-website.eu-central-1.amazonaws.com/train-images-idx3-ubyte.gz\n",
      "Downloading http://fashion-mnist.s3-website.eu-central-1.amazonaws.com/train-images-idx3-ubyte.gz to data\\FashionMNIST\\raw\\train-images-idx3-ubyte.gz\n"
     ]
    },
    {
     "name": "stderr",
     "output_type": "stream",
     "text": [
      "100.0%\n"
     ]
    },
    {
     "name": "stdout",
     "output_type": "stream",
     "text": [
      "Extracting data\\FashionMNIST\\raw\\train-images-idx3-ubyte.gz to data\\FashionMNIST\\raw\n",
      "\n",
      "Downloading http://fashion-mnist.s3-website.eu-central-1.amazonaws.com/train-labels-idx1-ubyte.gz\n",
      "Downloading http://fashion-mnist.s3-website.eu-central-1.amazonaws.com/train-labels-idx1-ubyte.gz to data\\FashionMNIST\\raw\\train-labels-idx1-ubyte.gz\n"
     ]
    },
    {
     "name": "stderr",
     "output_type": "stream",
     "text": [
      "100.6%\n"
     ]
    },
    {
     "name": "stdout",
     "output_type": "stream",
     "text": [
      "Extracting data\\FashionMNIST\\raw\\train-labels-idx1-ubyte.gz to data\\FashionMNIST\\raw\n",
      "\n",
      "Downloading http://fashion-mnist.s3-website.eu-central-1.amazonaws.com/t10k-images-idx3-ubyte.gz\n",
      "Downloading http://fashion-mnist.s3-website.eu-central-1.amazonaws.com/t10k-images-idx3-ubyte.gz to data\\FashionMNIST\\raw\\t10k-images-idx3-ubyte.gz\n"
     ]
    },
    {
     "name": "stderr",
     "output_type": "stream",
     "text": [
      "100.0%\n"
     ]
    },
    {
     "name": "stdout",
     "output_type": "stream",
     "text": [
      "Extracting data\\FashionMNIST\\raw\\t10k-images-idx3-ubyte.gz to data\\FashionMNIST\\raw\n",
      "\n",
      "Downloading http://fashion-mnist.s3-website.eu-central-1.amazonaws.com/t10k-labels-idx1-ubyte.gz\n",
      "Downloading http://fashion-mnist.s3-website.eu-central-1.amazonaws.com/t10k-labels-idx1-ubyte.gz to data\\FashionMNIST\\raw\\t10k-labels-idx1-ubyte.gz\n"
     ]
    },
    {
     "name": "stderr",
     "output_type": "stream",
     "text": [
      "119.3%"
     ]
    },
    {
     "name": "stdout",
     "output_type": "stream",
     "text": [
      "Extracting data\\FashionMNIST\\raw\\t10k-labels-idx1-ubyte.gz to data\\FashionMNIST\\raw\n",
      "\n"
     ]
    },
    {
     "name": "stderr",
     "output_type": "stream",
     "text": [
      "\n"
     ]
    }
   ],
   "source": [
    "# Download training data from open datasets.\n",
    "training_data = datasets.FashionMNIST(\n",
    "    root=\"data\",\n",
    "    train=True,\n",
    "    download=True,\n",
    "    transform=ToTensor(),\n",
    ")\n",
    "\n",
    "# Download test data from open datasets.\n",
    "test_data = datasets.FashionMNIST(\n",
    "    root=\"data\",\n",
    "    train=False,\n",
    "    download=True,\n",
    "    transform=ToTensor(),\n",
    ")"
   ]
  },
  {
   "cell_type": "markdown",
   "metadata": {
    "id": "tjlPIJ-JLMtc"
   },
   "source": [
    "#1. TENSORS\n",
    "\n",
    "Tensors are a specialized data structure that are very similar to arrays and matrices. In PyTorch, we use tensors to encode the inputs and outputs of a model, as well as the model’s parameters.\n",
    "\n",
    "Tensors are similar to NumPy’s ndarrays, except that tensors can run on GPUs or other hardware accelerators."
   ]
  },
  {
   "cell_type": "code",
   "execution_count": 4,
   "metadata": {
    "id": "6HFlwtyXLWd8"
   },
   "outputs": [],
   "source": [
    "import torch\n",
    "import numpy as np"
   ]
  },
  {
   "cell_type": "markdown",
   "metadata": {
    "id": "SavKqAZKLa8g"
   },
   "source": [
    "#Initializing a Tensor\n",
    "\n",
    "Tensors can be initialized in various ways."
   ]
  },
  {
   "cell_type": "code",
   "execution_count": 5,
   "metadata": {
    "colab": {
     "base_uri": "https://localhost:8080/"
    },
    "id": "D9iVVOEvLhLM",
    "outputId": "682bb76c-a43b-4693-ccdb-1e7fe387e4f5"
   },
   "outputs": [
    {
     "data": {
      "text/plain": [
       "tensor([[1, 2],\n",
       "        [3, 4]])"
      ]
     },
     "execution_count": 5,
     "metadata": {},
     "output_type": "execute_result"
    }
   ],
   "source": [
    "#1. Directly from data\n",
    "\n",
    "#Tensors can be created directly from data. The data type is automatically inferred.\n",
    "\n",
    "data = [[1, 2],[3, 4]]\n",
    "x_data = torch.tensor(data)\n",
    "x_data"
   ]
  },
  {
   "cell_type": "code",
   "execution_count": 6,
   "metadata": {
    "colab": {
     "base_uri": "https://localhost:8080/"
    },
    "id": "htV3gRQlLtpU",
    "outputId": "3df0d69c-b0b4-47a6-89d3-e122e587de81"
   },
   "outputs": [
    {
     "name": "stdout",
     "output_type": "stream",
     "text": [
      "np array: \n",
      " [[1 2]\n",
      " [3 4]] \n",
      "\n",
      "tensor  : \n",
      " tensor([[1, 2],\n",
      "        [3, 4]], dtype=torch.int32) \n",
      "\n"
     ]
    }
   ],
   "source": [
    "#2. From a NumPy array\n",
    "\n",
    "#Tensors can be created from NumPy arrays (and vice versa - see Bridge with NumPy).\n",
    "\n",
    "np_array = np.array(data)\n",
    "x_np = torch.from_numpy(np_array)\n",
    "print(f\"np array: \\n {np_array} \\n\")\n",
    "print(f\"tensor  : \\n {x_np} \\n\")\n"
   ]
  },
  {
   "cell_type": "code",
   "execution_count": 7,
   "metadata": {
    "colab": {
     "base_uri": "https://localhost:8080/"
    },
    "id": "OgN3SIaJMZCT",
    "outputId": "77cf6c82-e19f-4a8d-a74a-2f62507d205e"
   },
   "outputs": [
    {
     "name": "stdout",
     "output_type": "stream",
     "text": [
      "Ones Tensor: \n",
      " tensor([[1, 1],\n",
      "        [1, 1]]) \n",
      "\n",
      "Random Tensor: \n",
      " tensor([[0.4258, 0.2807],\n",
      "        [0.6008, 0.6207]]) \n",
      "\n"
     ]
    }
   ],
   "source": [
    "#3. From another tensor:\n",
    "# The new tensor retains the properties (shape, datatype) of the argument tensor, unless explicitly overridden.\n",
    "\n",
    "x_ones = torch.ones_like(x_data) # retains the properties of x_data\n",
    "print(f\"Ones Tensor: \\n {x_ones} \\n\")\n",
    "\n",
    "x_rand = torch.rand_like(x_data, dtype=torch.float) # overrides the datatype of x_data\n",
    "print(f\"Random Tensor: \\n {x_rand} \\n\")"
   ]
  },
  {
   "cell_type": "code",
   "execution_count": 8,
   "metadata": {
    "colab": {
     "base_uri": "https://localhost:8080/"
    },
    "id": "KIdmyGH2NB3D",
    "outputId": "c0fca744-f2dc-4ae9-baa1-447804bf2006"
   },
   "outputs": [
    {
     "name": "stdout",
     "output_type": "stream",
     "text": [
      "Random Tensor: \n",
      " tensor([[0.1619, 0.1725, 0.9653],\n",
      "        [0.8901, 0.2660, 0.3443]]) \n",
      "\n",
      "Ones Tensor: \n",
      " tensor([[1., 1., 1.],\n",
      "        [1., 1., 1.]]) \n",
      "\n",
      "Zeros Tensor: \n",
      " tensor([[0., 0., 0.],\n",
      "        [0., 0., 0.]])\n"
     ]
    }
   ],
   "source": [
    "#4. With random or constant values:\n",
    "# shape is a tuple of tensor dimensions. In the functions below, it determines the dimensionality of the output tensor.\n",
    "\n",
    "shape = (2,3,)\n",
    "rand_tensor = torch.rand(shape)\n",
    "ones_tensor = torch.ones(shape)\n",
    "zeros_tensor = torch.zeros(shape)\n",
    "\n",
    "print(f\"Random Tensor: \\n {rand_tensor} \\n\")\n",
    "print(f\"Ones Tensor: \\n {ones_tensor} \\n\")\n",
    "print(f\"Zeros Tensor: \\n {zeros_tensor}\")"
   ]
  },
  {
   "cell_type": "markdown",
   "metadata": {
    "id": "L2MlW4btNPn0"
   },
   "source": [
    "#Attributes of a Tensor\n",
    "\n",
    "Tensor attributes describe their shape, datatype, and the device on which they are stored."
   ]
  },
  {
   "cell_type": "code",
   "execution_count": 9,
   "metadata": {
    "colab": {
     "base_uri": "https://localhost:8080/"
    },
    "id": "pEWtYtxcNx7m",
    "outputId": "c329063b-06f2-4e23-d81d-f88ac6605f58"
   },
   "outputs": [
    {
     "name": "stdout",
     "output_type": "stream",
     "text": [
      "Shape of tensor: torch.Size([3, 4])\n",
      "Datatype of tensor: torch.float32\n",
      "Device tensor is stored on: cpu\n"
     ]
    }
   ],
   "source": [
    "tensor = torch.rand(3,4)\n",
    "\n",
    "print(f\"Shape of tensor: {tensor.shape}\")\n",
    "print(f\"Datatype of tensor: {tensor.dtype}\")\n",
    "print(f\"Device tensor is stored on: {tensor.device}\")"
   ]
  },
  {
   "cell_type": "markdown",
   "metadata": {
    "id": "o8-e0d5LN6MB"
   },
   "source": [
    "#Operations on Tensors\n",
    "\n",
    "Over 100 tensor operations, including arithmetic, linear algebra, matrix manipulation (transposing, indexing, slicing), sampling and more are comprehensively described here.\n",
    "\n",
    "By default, tensors are created on the CPU. We need to explicitly move tensors to the GPU using .to method (after checking for GPU availability). Keep in mind that copying large tensors across devices can be expensive in terms of time and memory!"
   ]
  },
  {
   "cell_type": "code",
   "execution_count": 10,
   "metadata": {
    "id": "AlEyP1S2OLth"
   },
   "outputs": [],
   "source": [
    "# We move our tensor to the GPU if available\n",
    "if torch.cuda.is_available():\n",
    "    tensor = tensor.to('cuda')"
   ]
  },
  {
   "cell_type": "code",
   "execution_count": 11,
   "metadata": {
    "colab": {
     "base_uri": "https://localhost:8080/"
    },
    "id": "ILEVLPz5ONFJ",
    "outputId": "cb65d35f-11ea-4c59-ebc1-3751ba642285"
   },
   "outputs": [
    {
     "name": "stdout",
     "output_type": "stream",
     "text": [
      "First row:  tensor([1., 1., 1., 1.])\n",
      "First column:  tensor([1., 1., 1., 1.])\n",
      "Last column: tensor([1., 1., 1., 1.])\n",
      "tensor([[1., 0., 1., 1.],\n",
      "        [1., 0., 1., 1.],\n",
      "        [1., 0., 1., 1.],\n",
      "        [1., 0., 1., 1.]])\n"
     ]
    }
   ],
   "source": [
    "# Standard numpy-like indexing and slicing:\n",
    "\n",
    "tensor = torch.ones(4, 4)\n",
    "print('First row: ', tensor[0])\n",
    "print('First column: ', tensor[:, 0])\n",
    "print('Last column:', tensor[..., -1])\n",
    "tensor[:,1] = 0\n",
    "print(tensor)"
   ]
  },
  {
   "cell_type": "code",
   "execution_count": 12,
   "metadata": {
    "colab": {
     "base_uri": "https://localhost:8080/"
    },
    "id": "_dAmYOelOn-z",
    "outputId": "657a48f7-9a1c-4fd9-f00d-120945bc9541"
   },
   "outputs": [
    {
     "name": "stdout",
     "output_type": "stream",
     "text": [
      "tensor([[1., 0., 1., 1., 1., 0., 1., 1., 1., 0., 1., 1.],\n",
      "        [1., 0., 1., 1., 1., 0., 1., 1., 1., 0., 1., 1.],\n",
      "        [1., 0., 1., 1., 1., 0., 1., 1., 1., 0., 1., 1.],\n",
      "        [1., 0., 1., 1., 1., 0., 1., 1., 1., 0., 1., 1.]])\n"
     ]
    }
   ],
   "source": [
    "#Joining tensors You can use torch.cat to concatenate a sequence of tensors along a given dimension.\n",
    "#See also torch.stack, another tensor joining op that is subtly different from torch.cat.\n",
    "\n",
    "t1 = torch.cat([tensor, tensor, tensor], dim=1)\n",
    "print(t1)"
   ]
  },
  {
   "cell_type": "markdown",
   "metadata": {
    "id": "UxFkMkQ8O6JE"
   },
   "source": [
    "Arithmetic operations"
   ]
  },
  {
   "cell_type": "code",
   "execution_count": 13,
   "metadata": {
    "colab": {
     "base_uri": "https://localhost:8080/"
    },
    "id": "4jNr703GO7dL",
    "outputId": "96298638-8119-4f49-cd25-b19290ba4072"
   },
   "outputs": [
    {
     "name": "stdout",
     "output_type": "stream",
     "text": [
      "y1 : tensor([[3., 3., 3., 3.],\n",
      "        [3., 3., 3., 3.],\n",
      "        [3., 3., 3., 3.],\n",
      "        [3., 3., 3., 3.]])\n",
      "y2 : tensor([[3., 3., 3., 3.],\n",
      "        [3., 3., 3., 3.],\n",
      "        [3., 3., 3., 3.],\n",
      "        [3., 3., 3., 3.]])\n",
      "y3 : tensor([[3., 3., 3., 3.],\n",
      "        [3., 3., 3., 3.],\n",
      "        [3., 3., 3., 3.],\n",
      "        [3., 3., 3., 3.]])\n"
     ]
    }
   ],
   "source": [
    "# This computes the matrix multiplication between two tensors. y1, y2, y3 will have the same value\n",
    "y1 = tensor @ tensor.T\n",
    "y2 = tensor.matmul(tensor.T)\n",
    "\n",
    "y3 = torch.rand_like(tensor)\n",
    "torch.matmul(tensor, tensor.T, out=y3)\n",
    "\n",
    "print(f\"y1 : {y1}\")\n",
    "print(f\"y2 : {y2}\")\n",
    "print(f\"y3 : {y3}\")\n",
    "\n",
    "\n"
   ]
  },
  {
   "cell_type": "code",
   "execution_count": 14,
   "metadata": {
    "colab": {
     "base_uri": "https://localhost:8080/"
    },
    "id": "sp5JZL0PPFnp",
    "outputId": "5834f181-9e84-42d2-84d2-642b204de771"
   },
   "outputs": [
    {
     "data": {
      "text/plain": [
       "tensor([[1., 0., 1., 1.],\n",
       "        [1., 0., 1., 1.],\n",
       "        [1., 0., 1., 1.],\n",
       "        [1., 0., 1., 1.]])"
      ]
     },
     "execution_count": 14,
     "metadata": {},
     "output_type": "execute_result"
    }
   ],
   "source": [
    "# This computes the element-wise product. z1, z2, z3 will have the same value\n",
    "z1 = tensor * tensor\n",
    "z2 = tensor.mul(tensor)\n",
    "\n",
    "z3 = torch.rand_like(tensor)\n",
    "torch.mul(tensor, tensor, out=z3)"
   ]
  },
  {
   "cell_type": "code",
   "execution_count": 15,
   "metadata": {
    "colab": {
     "base_uri": "https://localhost:8080/"
    },
    "id": "tvj9e9PEQCXK",
    "outputId": "3d2840e2-4ae3-4fac-a333-7e66a77050c7"
   },
   "outputs": [
    {
     "name": "stdout",
     "output_type": "stream",
     "text": [
      "12.0 <class 'float'>\n"
     ]
    }
   ],
   "source": [
    "#Single-element tensors If you have a one-element tensor,\n",
    "#for example by aggregating all values of a tensor into one value, you can convert it to a Python numerical value using item():\n",
    "\n",
    "agg = tensor.sum()\n",
    "agg_item = agg.item()\n",
    "print(agg_item, type(agg_item))"
   ]
  },
  {
   "cell_type": "code",
   "execution_count": 16,
   "metadata": {
    "colab": {
     "base_uri": "https://localhost:8080/"
    },
    "id": "DDY81QlsQRBi",
    "outputId": "f7e63c89-facf-4889-f926-b63c0314d14e"
   },
   "outputs": [
    {
     "name": "stdout",
     "output_type": "stream",
     "text": [
      "tensor([[1., 0., 1., 1.],\n",
      "        [1., 0., 1., 1.],\n",
      "        [1., 0., 1., 1.],\n",
      "        [1., 0., 1., 1.]]) \n",
      "\n",
      "tensor([[6., 5., 6., 6.],\n",
      "        [6., 5., 6., 6.],\n",
      "        [6., 5., 6., 6.],\n",
      "        [6., 5., 6., 6.]])\n"
     ]
    }
   ],
   "source": [
    "#In-place operations Operations that store the result into the operand are called in-place. \n",
    "#They are denoted by a _ suffix. For example: x.copy_(y), x.t_(), will change x.\n",
    "\n",
    "print(tensor, \"\\n\")\n",
    "tensor.add_(5)\n",
    "print(tensor)"
   ]
  },
  {
   "cell_type": "markdown",
   "metadata": {
    "id": "2aHauVOXQdfR"
   },
   "source": [
    "Tensor to NumPy array"
   ]
  },
  {
   "cell_type": "code",
   "execution_count": 17,
   "metadata": {
    "colab": {
     "base_uri": "https://localhost:8080/"
    },
    "id": "9DaYwZuYQeXB",
    "outputId": "e4925bc2-eecd-4930-e019-4877ac4842be"
   },
   "outputs": [
    {
     "name": "stdout",
     "output_type": "stream",
     "text": [
      "t: tensor([1., 1., 1., 1., 1.])\n",
      "n: [1. 1. 1. 1. 1.]\n"
     ]
    }
   ],
   "source": [
    "t = torch.ones(5)\n",
    "print(f\"t: {t}\")\n",
    "n = t.numpy()\n",
    "print(f\"n: {n}\")"
   ]
  },
  {
   "cell_type": "code",
   "execution_count": 18,
   "metadata": {
    "colab": {
     "base_uri": "https://localhost:8080/"
    },
    "id": "uOkjbH1GQmNa",
    "outputId": "fb128b87-c1b9-4b62-864a-390de73d86ce"
   },
   "outputs": [
    {
     "name": "stdout",
     "output_type": "stream",
     "text": [
      "t: tensor([2., 2., 2., 2., 2.])\n",
      "n: [2. 2. 2. 2. 2.]\n"
     ]
    }
   ],
   "source": [
    "#A change in the tensor reflects in the NumPy array.\n",
    "\n",
    "t.add_(1)\n",
    "print(f\"t: {t}\")\n",
    "print(f\"n: {n}\")"
   ]
  },
  {
   "cell_type": "markdown",
   "metadata": {
    "id": "Tcx8ys-6QtZL"
   },
   "source": [
    "NumPy array to Tensor"
   ]
  },
  {
   "cell_type": "code",
   "execution_count": 19,
   "metadata": {
    "colab": {
     "base_uri": "https://localhost:8080/"
    },
    "id": "ATB6HLGDQv7b",
    "outputId": "9e3d9843-dffd-4dc8-fffe-c85d21509cc3"
   },
   "outputs": [
    {
     "name": "stdout",
     "output_type": "stream",
     "text": [
      "n: [1. 1. 1. 1. 1.]\n",
      "t: tensor([1., 1., 1., 1., 1.], dtype=torch.float64)\n"
     ]
    }
   ],
   "source": [
    "n = np.ones(5)\n",
    "t = torch.from_numpy(n)\n",
    "\n",
    "print(f\"n: {n}\")\n",
    "print(f\"t: {t}\")"
   ]
  },
  {
   "cell_type": "code",
   "execution_count": 20,
   "metadata": {
    "colab": {
     "base_uri": "https://localhost:8080/"
    },
    "id": "pwfs7wq6Q-Eh",
    "outputId": "dba382cc-dfde-43dd-ec85-6beb5e5ba890"
   },
   "outputs": [
    {
     "name": "stdout",
     "output_type": "stream",
     "text": [
      "n: [2. 2. 2. 2. 2.]\n",
      "t: tensor([2., 2., 2., 2., 2.], dtype=torch.float64)\n"
     ]
    }
   ],
   "source": [
    "#Changes in the NumPy array reflects in the tensor.\n",
    "\n",
    "np.add(n, 1, out=n)\n",
    "\n",
    "print(f\"n: {n}\")\n",
    "print(f\"t: {t}\")"
   ]
  },
  {
   "cell_type": "markdown",
   "metadata": {},
   "source": [
    "# Pytorch B"
   ]
  },
  {
   "cell_type": "markdown",
   "metadata": {
    "id": "-an0Mu99qU8O"
   },
   "source": [
    "#2. DATASETS & DATALOADERS"
   ]
  },
  {
   "cell_type": "markdown",
   "metadata": {
    "id": "6ecGBy_Pqeq0"
   },
   "source": [
    "Loading a Dataset\n",
    "\n",
    "Here is an example of how to load the Fashion-MNIST dataset from TorchVision. Fashion-MNIST is a dataset of Zalando’s article images consisting of 60,000 training examples and 10,000 test examples. Each example comprises a 28×28 grayscale image and an associated label from one of 10 classes.\n",
    "\n",
    "We load the FashionMNIST Dataset with the following parameters:\n",
    "\n",
    "root is the path where the train/test data is stored,\n",
    "\n",
    "train specifies training or test dataset,\n",
    "\n",
    "download=True downloads the data from the internet if it’s not available at root.\n",
    "\n",
    "transform and target_transform specify the feature and label transformations"
   ]
  },
  {
   "cell_type": "code",
   "execution_count": 21,
   "metadata": {
    "colab": {
     "base_uri": "https://localhost:8080/",
     "height": 435,
     "referenced_widgets": [
      "8a63afc20e904057b4f4cc380ec0f96c",
      "bccb1c5d2d7f4da590a27769c20f4075",
      "610832fc909d456e9a5cfcbc7343e8e7",
      "9c7bb1558c8147c5ba568ad58654f41a",
      "70a3320f33d249dfabb6ab6056586b77",
      "46b5e6d597124ff7ac7e9c3996db3e97",
      "8837e1d3d9a647b48392dc2b159be7c9",
      "274ff0614e77441086e2477a82bc7a81",
      "57ea6ade6e9249c5a84b2934b4954270",
      "322b42847dfb4ebd9f4f63099669750b",
      "8cfec8e6451d4729b6631b411bd29887",
      "67aed4bb9caa43daadf175573e6afe1a",
      "95d2cf93bbf44c7aa244950609f97fa3",
      "420373a217b141569e1fc9c6262e13b3",
      "ba2c8a27ec9d467fbe1de88f3cd7531b",
      "cb5ad1c11e7840fd86ddf518b5ebd5d0",
      "897bb4bb4bb0441b91476f516459bb91",
      "9a7860ba4e284ff880c267a5d12c34b9",
      "9f9a5a1997c04a73a591a72c2516e689",
      "1d2b86985ee54c11a5e9f0aa59fe8036",
      "f91201a8fd6a41ae9fa7ddd23d757af4",
      "16757e1314624a9dbd27feb5d0250f98",
      "904a3fbb07ba41f7b0202b51c05d88a1",
      "9d7c697d85994abfb98a294f0fc363c0",
      "65a7a8dc5deb45d3834ba21ff9161336",
      "098c72ff5c0b4ede8e2414ced8e9913c",
      "62b4d278bda048d6a48108ac862accf2",
      "5bcdf9c6cd1b499a9137acab035d42e0",
      "a8e7838d54c04434a638ce378d0de5ea",
      "d884bc4bbc6944408d7e563c346665ec",
      "6e16d79c2c554611b1fe7cdeb40e3112",
      "ac8c60dff7aa46199f6e0b11932cc48d",
      "b423abcfdcf6481cac6b85d4070fd1f2",
      "b54a2e4d6583489580416c1b4a2a447e",
      "51a8e1f92517434285ff0d9e44466be2",
      "b889e0e1a29b411085c33786e3dee97a",
      "653cf1cb5b214fa89ea478fb5b627440",
      "8da363d603964c59905262b5697caa3e",
      "0408a837bca0475da06d2d2eee7bfbbf",
      "f70a02032a464a37b0d53982078ac7db",
      "4f62d3d0dc6c4feabc161dd6be28c738",
      "3b84b16f1b85442badddc98e0b541718",
      "5a68fd72083c4b99a216042237515eee",
      "75e04673b4504071a70fd0fe615819f7"
     ]
    },
    "id": "Wni7cW0GqYGD",
    "outputId": "fb3d411b-da8f-4b07-fc21-85805b53883c"
   },
   "outputs": [],
   "source": [
    "import torch\n",
    "from torch.utils.data import Dataset\n",
    "from torchvision import datasets\n",
    "from torchvision.transforms import ToTensor\n",
    "import matplotlib.pyplot as plt\n",
    "\n",
    "\n",
    "training_data = datasets.FashionMNIST(\n",
    "    root=\"data\",\n",
    "    train=True,\n",
    "    download=True,\n",
    "    transform=ToTensor()\n",
    ")\n",
    "\n",
    "test_data = datasets.FashionMNIST(\n",
    "    root=\"data\",\n",
    "    train=False,\n",
    "    download=True,\n",
    "    transform=ToTensor()\n",
    ")"
   ]
  },
  {
   "cell_type": "markdown",
   "metadata": {
    "id": "rOFsLS-JrB5j"
   },
   "source": [
    "#3. TRANSFORMS\n",
    "We use transforms to perform some manipulation of the data and make it suitable for training.\n",
    "\n",
    "All TorchVision datasets have two parameters -transform to modify the features and target_transform to modify the labels - that accept callables containing the transformation logic. The torchvision.transforms module offers several commonly-used transforms out of the box.\n",
    "\n",
    "The FashionMNIST features are in PIL Image format, and the labels are integers. For training, we need the features as normalized tensors, and the labels as one-hot encoded tensors. To make these transformations, we use ToTensor and Lambda."
   ]
  },
  {
   "cell_type": "code",
   "execution_count": 22,
   "metadata": {
    "id": "0Emjy7U3rLBU"
   },
   "outputs": [],
   "source": [
    "ds = datasets.FashionMNIST(\n",
    "    root=\"data\",\n",
    "    train=True,\n",
    "    download=True,\n",
    "    transform=ToTensor(),\n",
    "    target_transform=Lambda(lambda y: torch.zeros(10, dtype=torch.float).scatter_(0, torch.tensor(y), value=1))\n",
    ")"
   ]
  },
  {
   "cell_type": "markdown",
   "metadata": {
    "id": "fXncZbf5rcy0"
   },
   "source": [
    "ToTensor converts a PIL image or NumPy ndarray into a FloatTensor. and scales the image’s pixel intensity values in the range [0., 1.]\n",
    "\n",
    "Lambda transforms apply any user-defined lambda function. Here, we define a function to turn the integer into a one-hot encoded tensor. It first creates a zero tensor of size 10 (the number of labels in our dataset) and calls scatter_ which assigns a value=1 on the index as given by the label y."
   ]
  },
  {
   "cell_type": "markdown",
   "metadata": {
    "id": "E_BHlzKbrqGr"
   },
   "source": [
    "#4. BUILD THE NEURAL NETWORK\n",
    "\n",
    "Neural networks comprise of layers/modules that perform operations on data. The torch.nn namespace provides all the building blocks you need to build your own neural network. Every module in PyTorch subclasses the nn.Module. A neural network is a module itself that consists of other modules (layers). This nested structure allows for building and managing complex architectures easily.\n",
    "\n",
    "In the following sections, we’ll build a neural network to classify images in the FashionMNIST dataset.\n",
    "\n",
    "\n"
   ]
  },
  {
   "cell_type": "code",
   "execution_count": 23,
   "metadata": {
    "id": "CVHtQvYhrkIM"
   },
   "outputs": [],
   "source": [
    "import os\n",
    "import torch\n",
    "from torch import nn\n",
    "from torch.utils.data import DataLoader\n",
    "from torchvision import datasets, transforms"
   ]
  },
  {
   "cell_type": "markdown",
   "metadata": {
    "id": "pzKLXBfqr9Hj"
   },
   "source": [
    "**Get Device for Training**\n",
    "\n",
    "We want to be able to train our model on a hardware accelerator like the GPU, if it is available. Let’s check to see if torch.cuda is available, else we continue to use the CPU."
   ]
  },
  {
   "cell_type": "code",
   "execution_count": 24,
   "metadata": {
    "colab": {
     "base_uri": "https://localhost:8080/"
    },
    "id": "XnV1okMnr6k9",
    "outputId": "1c52ec53-573d-4902-eec7-8d94c4d94212"
   },
   "outputs": [
    {
     "name": "stdout",
     "output_type": "stream",
     "text": [
      "Using cpu device\n"
     ]
    }
   ],
   "source": [
    "device = 'cuda' if torch.cuda.is_available() else 'cpu'\n",
    "print(f'Using {device} device')"
   ]
  },
  {
   "cell_type": "markdown",
   "metadata": {
    "id": "U00DqVqYsGWt"
   },
   "source": [
    "**Define the Class**\n",
    "\n",
    "We define our neural network by subclassing nn.Module, and initialize the neural network layers in __init__. Every nn.Module subclass implements the operations on input data in the forward method."
   ]
  },
  {
   "cell_type": "code",
   "execution_count": 25,
   "metadata": {
    "id": "bHRZUaLSxQad"
   },
   "outputs": [],
   "source": [
    "class NeuralNetwork(nn.Module):\n",
    "    def __init__(self):\n",
    "        super(NeuralNetwork, self).__init__()\n",
    "        self.flatten = nn.Flatten()\n",
    "        self.linear_relu_stack = nn.Sequential(\n",
    "            nn.Linear(28*28, 512),\n",
    "            nn.ReLU(),\n",
    "            nn.Linear(512, 512),\n",
    "            nn.ReLU(),\n",
    "            nn.Linear(512, 10),\n",
    "        )\n",
    "\n",
    "    def forward(self, x):\n",
    "        x = self.flatten(x)\n",
    "        logits = self.linear_relu_stack(x)\n",
    "        return logits"
   ]
  },
  {
   "cell_type": "code",
   "execution_count": 26,
   "metadata": {
    "colab": {
     "base_uri": "https://localhost:8080/"
    },
    "id": "Y8O83ndWxSrb",
    "outputId": "f98f9d40-f0f0-4a4f-ce28-eb35549571d2"
   },
   "outputs": [
    {
     "name": "stdout",
     "output_type": "stream",
     "text": [
      "NeuralNetwork(\n",
      "  (flatten): Flatten(start_dim=1, end_dim=-1)\n",
      "  (linear_relu_stack): Sequential(\n",
      "    (0): Linear(in_features=784, out_features=512, bias=True)\n",
      "    (1): ReLU()\n",
      "    (2): Linear(in_features=512, out_features=512, bias=True)\n",
      "    (3): ReLU()\n",
      "    (4): Linear(in_features=512, out_features=10, bias=True)\n",
      "  )\n",
      ")\n"
     ]
    }
   ],
   "source": [
    "# We create an instance of NeuralNetwork, and move it to the device, and print its structure.\n",
    "\n",
    "model = NeuralNetwork().to(device)\n",
    "print(model)"
   ]
  },
  {
   "cell_type": "markdown",
   "metadata": {
    "id": "MIzg4chRxbj7"
   },
   "source": [
    "To use the model, we pass it the input data. This executes the model’s forward, along with some background operations. Do not call model.forward() directly!\n",
    "\n",
    "Calling the model on the input returns a 10-dimensional tensor with raw predicted values for each class. We get the prediction probabilities by passing it through an instance of the nn.Softmax module."
   ]
  },
  {
   "cell_type": "code",
   "execution_count": 27,
   "metadata": {
    "colab": {
     "base_uri": "https://localhost:8080/"
    },
    "id": "eCMMaxl9xe4i",
    "outputId": "a1fa17c4-738d-4620-808b-5cf5d4e2613d"
   },
   "outputs": [
    {
     "name": "stdout",
     "output_type": "stream",
     "text": [
      "Predicted class: tensor([3])\n"
     ]
    }
   ],
   "source": [
    "# Executes the model\n",
    "X = torch.rand(1, 28, 28, device=device)\n",
    "logits = model(X)\n",
    "pred_probab = nn.Softmax(dim=1)(logits)\n",
    "y_pred = pred_probab.argmax(1)\n",
    "print(f\"Predicted class: {y_pred}\")"
   ]
  },
  {
   "cell_type": "markdown",
   "metadata": {
    "id": "IfRfdFUlxlS6"
   },
   "source": [
    "**Model Layers**\n",
    "\n",
    "Let’s break down the layers in the FashionMNIST model. To illustrate it, we will take a sample minibatch of 3 images of size 28x28 and see what happens to it as we pass it through the network."
   ]
  },
  {
   "cell_type": "code",
   "execution_count": 28,
   "metadata": {
    "colab": {
     "base_uri": "https://localhost:8080/"
    },
    "id": "_QuQeplZxqva",
    "outputId": "d5cc4d34-e4f8-4f99-f08e-c63512579109"
   },
   "outputs": [
    {
     "name": "stdout",
     "output_type": "stream",
     "text": [
      "torch.Size([3, 28, 28])\n"
     ]
    }
   ],
   "source": [
    "input_image = torch.rand(3,28,28)\n",
    "print(input_image.size())"
   ]
  },
  {
   "cell_type": "markdown",
   "metadata": {
    "id": "B0TMFnBhxriD"
   },
   "source": [
    "**nn.Flatten**\n",
    "\n",
    "We initialize the nn.Flatten layer to convert each 2D 28x28 image into a contiguous array of 784 pixel values ( the minibatch dimension (at dim=0) is maintained)."
   ]
  },
  {
   "cell_type": "code",
   "execution_count": 29,
   "metadata": {
    "colab": {
     "base_uri": "https://localhost:8080/"
    },
    "id": "QL9G-OtWxyLD",
    "outputId": "dca34aec-fc3b-406f-9bc9-6c06215f7085"
   },
   "outputs": [
    {
     "name": "stdout",
     "output_type": "stream",
     "text": [
      "torch.Size([3, 784])\n"
     ]
    }
   ],
   "source": [
    "flatten = nn.Flatten()\n",
    "flat_image = flatten(input_image)\n",
    "print(flat_image.size())"
   ]
  },
  {
   "cell_type": "markdown",
   "metadata": {
    "id": "NsnWdF4-x26s"
   },
   "source": [
    "**nn.Linear**\n",
    "\n",
    "The linear layer is a module that applies a linear transformation on the input using its stored weights and biases."
   ]
  },
  {
   "cell_type": "code",
   "execution_count": 30,
   "metadata": {
    "colab": {
     "base_uri": "https://localhost:8080/"
    },
    "id": "f0RwVocJx4tt",
    "outputId": "7280e53f-a8e5-488d-d515-4c8a7e131a7d"
   },
   "outputs": [
    {
     "name": "stdout",
     "output_type": "stream",
     "text": [
      "torch.Size([3, 20])\n"
     ]
    }
   ],
   "source": [
    "layer1 = nn.Linear(in_features=28*28, out_features=20)\n",
    "hidden1 = layer1(flat_image)\n",
    "print(hidden1.size())"
   ]
  },
  {
   "cell_type": "markdown",
   "metadata": {
    "id": "4CFGQhqKx-vz"
   },
   "source": [
    "**nn.ReLU**\n",
    "\n",
    "Non-linear activations are what create the complex mappings between the model’s inputs and outputs. They are applied after linear transformations to introduce nonlinearity, helping neural networks learn a wide variety of phenomena.\n",
    "\n",
    "\n",
    "In this model, we use nn.ReLU between our linear layers, but there’s other activations to introduce non-linearity in your model."
   ]
  },
  {
   "cell_type": "code",
   "execution_count": 31,
   "metadata": {
    "colab": {
     "base_uri": "https://localhost:8080/"
    },
    "id": "Aa6BHq5UyD78",
    "outputId": "5cf091ba-5524-49e4-e625-34a430c804d8"
   },
   "outputs": [
    {
     "name": "stdout",
     "output_type": "stream",
     "text": [
      "Before ReLU: tensor([[-0.0714, -0.5287, -0.2836,  0.3447,  0.0678, -0.2557,  0.0442, -0.0815,\n",
      "          0.2336, -0.1508,  0.4210, -0.5252, -0.1087, -0.2371,  0.1414, -0.5912,\n",
      "          0.0876,  0.1986, -0.1805, -0.3762],\n",
      "        [-0.0494, -0.5102, -0.4324, -0.1548,  0.0593,  0.0438,  0.1266, -0.2717,\n",
      "          0.4177, -0.1502,  0.4996, -0.3168, -0.3998,  0.2774, -0.1259, -0.4494,\n",
      "          0.0253, -0.1182,  0.0776, -0.0955],\n",
      "        [ 0.0904, -0.6561, -0.2196,  0.1096, -0.2951,  0.0123,  0.2021,  0.0841,\n",
      "          0.6279, -0.0712,  0.4985, -0.7125,  0.0573,  0.0795, -0.0870, -0.2306,\n",
      "          0.0735,  0.2417, -0.1016,  0.1656]], grad_fn=<AddmmBackward0>)\n",
      "\n",
      "\n",
      "After ReLU: tensor([[0.0000, 0.0000, 0.0000, 0.3447, 0.0678, 0.0000, 0.0442, 0.0000, 0.2336,\n",
      "         0.0000, 0.4210, 0.0000, 0.0000, 0.0000, 0.1414, 0.0000, 0.0876, 0.1986,\n",
      "         0.0000, 0.0000],\n",
      "        [0.0000, 0.0000, 0.0000, 0.0000, 0.0593, 0.0438, 0.1266, 0.0000, 0.4177,\n",
      "         0.0000, 0.4996, 0.0000, 0.0000, 0.2774, 0.0000, 0.0000, 0.0253, 0.0000,\n",
      "         0.0776, 0.0000],\n",
      "        [0.0904, 0.0000, 0.0000, 0.1096, 0.0000, 0.0123, 0.2021, 0.0841, 0.6279,\n",
      "         0.0000, 0.4985, 0.0000, 0.0573, 0.0795, 0.0000, 0.0000, 0.0735, 0.2417,\n",
      "         0.0000, 0.1656]], grad_fn=<ReluBackward0>)\n"
     ]
    }
   ],
   "source": [
    "print(f\"Before ReLU: {hidden1}\\n\\n\")\n",
    "hidden1 = nn.ReLU()(hidden1)\n",
    "print(f\"After ReLU: {hidden1}\")"
   ]
  },
  {
   "cell_type": "markdown",
   "metadata": {
    "id": "adGf-HD6yIVj"
   },
   "source": [
    "**nn.Sequential**\n",
    "\n",
    "nn.Sequential is an ordered container of modules. The data is passed through all the modules in the same order as defined. You can use sequential containers to put together a quick network like seq_modules."
   ]
  },
  {
   "cell_type": "code",
   "execution_count": 32,
   "metadata": {
    "id": "_Zym86oaySSD"
   },
   "outputs": [],
   "source": [
    "seq_modules = nn.Sequential(\n",
    "    flatten,\n",
    "    layer1,\n",
    "    nn.ReLU(),\n",
    "    nn.Linear(20, 10)\n",
    ")\n",
    "input_image = torch.rand(3,28,28)\n",
    "logits = seq_modules(input_image)"
   ]
  },
  {
   "cell_type": "markdown",
   "metadata": {
    "id": "w95evWPeyYyW"
   },
   "source": [
    "**nn.Softmax**\n",
    "\n",
    "The last linear layer of the neural network returns logits - raw values in [-infty, infty] - which are passed to the nn.Softmax module. The logits are scaled to values [0, 1] representing the model’s predicted probabilities for each class. dim parameter indicates the dimension along which the values must sum to 1."
   ]
  },
  {
   "cell_type": "code",
   "execution_count": 33,
   "metadata": {
    "id": "fKIhcFQHyfxb"
   },
   "outputs": [],
   "source": [
    "softmax = nn.Softmax(dim=1)\n",
    "pred_probab = softmax(logits)"
   ]
  },
  {
   "cell_type": "markdown",
   "metadata": {
    "id": "eQOm9LU3ygd6"
   },
   "source": [
    "**Model Parameters**\n",
    "\n",
    "Many layers inside a neural network are parameterized, i.e. have associated weights and biases that are optimized during training. Subclassing nn.Module automatically tracks all fields defined inside your model object, and makes all parameters accessible using your model’s parameters() or named_parameters() methods.\n",
    "\n",
    "In this example, we iterate over each parameter, and print its size and a preview of its values."
   ]
  },
  {
   "cell_type": "code",
   "execution_count": 34,
   "metadata": {
    "colab": {
     "base_uri": "https://localhost:8080/"
    },
    "id": "wzxy2PoEyu9S",
    "outputId": "167f5b16-b755-43a5-f5cb-d20399764a59"
   },
   "outputs": [
    {
     "name": "stdout",
     "output_type": "stream",
     "text": [
      "Model structure:  NeuralNetwork(\n",
      "  (flatten): Flatten(start_dim=1, end_dim=-1)\n",
      "  (linear_relu_stack): Sequential(\n",
      "    (0): Linear(in_features=784, out_features=512, bias=True)\n",
      "    (1): ReLU()\n",
      "    (2): Linear(in_features=512, out_features=512, bias=True)\n",
      "    (3): ReLU()\n",
      "    (4): Linear(in_features=512, out_features=10, bias=True)\n",
      "  )\n",
      ") \n",
      "\n",
      "\n",
      "Layer: linear_relu_stack.0.weight | Size: torch.Size([512, 784]) | Values : tensor([[-0.0269,  0.0253, -0.0021,  ...,  0.0048,  0.0155,  0.0276],\n",
      "        [ 0.0064,  0.0300,  0.0040,  ..., -0.0103,  0.0205,  0.0041]],\n",
      "       grad_fn=<SliceBackward0>) \n",
      "\n",
      "Layer: linear_relu_stack.0.bias | Size: torch.Size([512]) | Values : tensor([ 0.0321, -0.0070], grad_fn=<SliceBackward0>) \n",
      "\n",
      "Layer: linear_relu_stack.2.weight | Size: torch.Size([512, 512]) | Values : tensor([[ 0.0010,  0.0212,  0.0366,  ..., -0.0404, -0.0301, -0.0327],\n",
      "        [ 0.0108,  0.0259,  0.0083,  ..., -0.0198,  0.0112, -0.0384]],\n",
      "       grad_fn=<SliceBackward0>) \n",
      "\n",
      "Layer: linear_relu_stack.2.bias | Size: torch.Size([512]) | Values : tensor([-0.0271, -0.0038], grad_fn=<SliceBackward0>) \n",
      "\n",
      "Layer: linear_relu_stack.4.weight | Size: torch.Size([10, 512]) | Values : tensor([[-0.0360, -0.0269,  0.0424,  ..., -0.0098, -0.0120,  0.0057],\n",
      "        [-0.0210, -0.0137,  0.0394,  ...,  0.0047,  0.0089,  0.0173]],\n",
      "       grad_fn=<SliceBackward0>) \n",
      "\n",
      "Layer: linear_relu_stack.4.bias | Size: torch.Size([10]) | Values : tensor([-0.0251, -0.0001], grad_fn=<SliceBackward0>) \n",
      "\n"
     ]
    }
   ],
   "source": [
    "print(\"Model structure: \", model, \"\\n\\n\")\n",
    "\n",
    "for name, param in model.named_parameters():\n",
    "    print(f\"Layer: {name} | Size: {param.size()} | Values : {param[:2]} \\n\")"
   ]
  },
  {
   "cell_type": "markdown",
   "metadata": {
    "id": "AcZHQfSzzzlS"
   },
   "source": [
    "#5. AUTOMATIC DIFFERENTIATION WITH TORCH.AUTOGRAD\n",
    "\n",
    "When training neural networks, the most frequently used algorithm is back propagation. In this algorithm, parameters (model weights) are adjusted according to the gradient of the loss function with respect to the given parameter.\n",
    "\n",
    "To compute those gradients, PyTorch has a built-in differentiation engine called torch.autograd. It supports automatic computation of gradient for any computational graph.\n",
    "\n",
    "Consider the simplest one-layer neural network, with input x, parameters w and b, and some loss function. It can be defined in PyTorch in the following manner:"
   ]
  },
  {
   "cell_type": "code",
   "execution_count": 35,
   "metadata": {
    "id": "Xctd8H46z8Oj"
   },
   "outputs": [],
   "source": [
    "import torch\n",
    "\n",
    "x = torch.ones(5)  # input tensor\n",
    "y = torch.zeros(3)  # expected output\n",
    "w = torch.randn(5, 3, requires_grad=True)\n",
    "b = torch.randn(3, requires_grad=True)\n",
    "z = torch.matmul(x, w)+b\n",
    "loss = torch.nn.functional.binary_cross_entropy_with_logits(z, y)"
   ]
  },
  {
   "cell_type": "markdown",
   "metadata": {
    "id": "q7_keaT-0AR7"
   },
   "source": [
    "**Tensors, Functions and Computational graph**\n",
    "In this network, w and b are parameters, which we need to optimize. Thus, we need to be able to compute the gradients of loss function with respect to those variables. In order to do that, we set the requires_grad property of those tensors.\n",
    "\n",
    "A function that we apply to tensors to construct computational graph is in fact an object of class Function. This object knows how to compute the function in the forward direction, and also how to compute its derivative during the backward propagation step. A reference to the backward propagation function is stored in grad_fn property of a tensor. "
   ]
  },
  {
   "cell_type": "code",
   "execution_count": 36,
   "metadata": {
    "colab": {
     "base_uri": "https://localhost:8080/"
    },
    "id": "sYyG-2AL0S-c",
    "outputId": "3d52a3d6-275d-4b14-d74f-42f1dc1fe3b8"
   },
   "outputs": [
    {
     "name": "stdout",
     "output_type": "stream",
     "text": [
      "Gradient function for z = <AddBackward0 object at 0x00000190B342EF88>\n",
      "Gradient function for loss = <BinaryCrossEntropyWithLogitsBackward0 object at 0x00000190B342E848>\n"
     ]
    }
   ],
   "source": [
    "print('Gradient function for z =', z.grad_fn)\n",
    "print('Gradient function for loss =', loss.grad_fn)"
   ]
  },
  {
   "cell_type": "markdown",
   "metadata": {
    "id": "dAQyKV-S0Vja"
   },
   "source": [
    "**Computing Gradients**\n",
    "\n",
    "To optimize weights of parameters in the neural network, we need to compute the derivatives of our loss function with respect to parameters, namely, we need \\frac{\\partial loss}{\\partial w} \n",
    "∂w\n",
    "∂loss\n",
    "​\n",
    "  and \\frac{\\partial loss}{\\partial b} \n",
    "∂b\n",
    "∂loss\n",
    "​\n",
    "  under some fixed values of x and y. To compute those derivatives, we call loss.backward(), and then retrieve the values from w.grad and b.grad:"
   ]
  },
  {
   "cell_type": "code",
   "execution_count": 37,
   "metadata": {
    "colab": {
     "base_uri": "https://localhost:8080/"
    },
    "id": "zUZ8tvdm0dQz",
    "outputId": "3e313e1a-3e6f-48be-af03-14d9a2694e3f"
   },
   "outputs": [
    {
     "name": "stdout",
     "output_type": "stream",
     "text": [
      "tensor([[0.3308, 0.0192, 0.1161],\n",
      "        [0.3308, 0.0192, 0.1161],\n",
      "        [0.3308, 0.0192, 0.1161],\n",
      "        [0.3308, 0.0192, 0.1161],\n",
      "        [0.3308, 0.0192, 0.1161]])\n",
      "tensor([0.3308, 0.0192, 0.1161])\n"
     ]
    }
   ],
   "source": [
    "loss.backward()\n",
    "print(w.grad)\n",
    "print(b.grad)"
   ]
  },
  {
   "cell_type": "markdown",
   "metadata": {
    "id": "jjGvVUGG0fbT"
   },
   "source": [
    "**Disabling Gradient Tracking**\n",
    "\n",
    "By default, all tensors with requires_grad=True are tracking their computational history and support gradient computation. However, there are some cases when we do not need to do that, for example, when we have trained the model and just want to apply it to some input data, i.e. we only want to do forward computations through the network. We can stop tracking computations by surrounding our computation code with torch.no_grad() block:\n"
   ]
  },
  {
   "cell_type": "code",
   "execution_count": 38,
   "metadata": {
    "colab": {
     "base_uri": "https://localhost:8080/"
    },
    "id": "L-QQp3M50sp8",
    "outputId": "8772648f-7a8f-4340-aee1-56443abbb900"
   },
   "outputs": [
    {
     "name": "stdout",
     "output_type": "stream",
     "text": [
      "True\n",
      "False\n"
     ]
    }
   ],
   "source": [
    "z = torch.matmul(x, w)+b\n",
    "print(z.requires_grad)\n",
    "\n",
    "with torch.no_grad():\n",
    "    z = torch.matmul(x, w)+b\n",
    "print(z.requires_grad)"
   ]
  },
  {
   "cell_type": "code",
   "execution_count": 39,
   "metadata": {
    "colab": {
     "base_uri": "https://localhost:8080/"
    },
    "id": "0I1Z7ikA01Hb",
    "outputId": "2f957a19-fe8e-4204-be71-5c783cd5efef"
   },
   "outputs": [
    {
     "name": "stdout",
     "output_type": "stream",
     "text": [
      "False\n"
     ]
    }
   ],
   "source": [
    "# Another way to achieve the same result is to use the detach() method on the tensor:\n",
    "\n",
    "z = torch.matmul(x, w)+b\n",
    "z_det = z.detach()\n",
    "print(z_det.requires_grad)"
   ]
  },
  {
   "cell_type": "markdown",
   "metadata": {
    "id": "Jzqt2BpK1BtD"
   },
   "source": [
    "#6.OPTIMIZING MODEL PARAMETERS\n",
    "\n",
    "Now that we have a model and data it’s time to train, validate and test our model by optimizing its parameters on our data. Training a model is an iterative process; in each iteration (called an epoch) the model makes a guess about the output, calculates the error in its guess (loss), collects the derivatives of the error with respect to its parameters (as we saw in the previous section), and optimizes these parameters using gradient descent. For a more detailed walkthrough of this process, check out this video on backpropagation from 3Blue1Brown."
   ]
  },
  {
   "cell_type": "markdown",
   "metadata": {
    "id": "Vv2JWTlW1Kjg"
   },
   "source": [
    "**Prerequisite Code**\n",
    "We load the code from the previous sections on Datasets & DataLoaders and Build Model."
   ]
  },
  {
   "cell_type": "code",
   "execution_count": 40,
   "metadata": {
    "id": "s_b6jEBY1Ga6"
   },
   "outputs": [],
   "source": [
    "import torch\n",
    "from torch import nn\n",
    "from torch.utils.data import DataLoader\n",
    "from torchvision import datasets\n",
    "from torchvision.transforms import ToTensor, Lambda\n",
    "\n",
    "training_data = datasets.FashionMNIST(\n",
    "    root=\"data\",\n",
    "    train=True,\n",
    "    download=True,\n",
    "    transform=ToTensor()\n",
    ")\n",
    "\n",
    "test_data = datasets.FashionMNIST(\n",
    "    root=\"data\",\n",
    "    train=False,\n",
    "    download=True,\n",
    "    transform=ToTensor()\n",
    ")\n",
    "\n",
    "train_dataloader = DataLoader(training_data, batch_size=64)\n",
    "test_dataloader = DataLoader(test_data, batch_size=64)\n",
    "\n",
    "class NeuralNetwork(nn.Module):\n",
    "    def __init__(self):\n",
    "        super(NeuralNetwork, self).__init__()\n",
    "        self.flatten = nn.Flatten()\n",
    "        self.linear_relu_stack = nn.Sequential(\n",
    "            nn.Linear(28*28, 512),\n",
    "            nn.ReLU(),\n",
    "            nn.Linear(512, 512),\n",
    "            nn.ReLU(),\n",
    "            nn.Linear(512, 10),\n",
    "        )\n",
    "\n",
    "    def forward(self, x):\n",
    "        x = self.flatten(x)\n",
    "        logits = self.linear_relu_stack(x)\n",
    "        return logits\n",
    "\n",
    "model = NeuralNetwork()"
   ]
  },
  {
   "cell_type": "markdown",
   "metadata": {
    "id": "ef6uoVha1nXp"
   },
   "source": [
    "**Hyperparameters**\n",
    "\n",
    "Hyperparameters are adjustable parameters that let you control the model optimization process. Different hyperparameter values can impact model training and convergence rates (read more about hyperparameter tuning)\n",
    "\n",
    "We define the following hyperparameters for training:\n",
    "\n",
    "-Number of Epochs - the number times to iterate over the dataset\n",
    "\n",
    "-Batch Size - the number of data samples propagated through the network before the parameters are updated\n",
    "\n",
    "-Learning Rate - how much to update models parameters at each batch/epoch. Smaller values yield slow learning speed, while large values may result in unpredictable behavior during training."
   ]
  },
  {
   "cell_type": "code",
   "execution_count": 41,
   "metadata": {
    "id": "JztiNwW61vzK"
   },
   "outputs": [],
   "source": [
    "learning_rate = 1e-3\n",
    "batch_size = 64\n",
    "epochs = 5"
   ]
  },
  {
   "cell_type": "markdown",
   "metadata": {
    "id": "g3kkEXEz1ysO"
   },
   "source": [
    "**Optimization Loop**\n",
    "\n",
    "Once we set our hyperparameters, we can then train and optimize our model with an optimization loop. Each iteration of the optimization loop is called an epoch.\n",
    "\n",
    "Each epoch consists of two main parts:\n",
    "The Train Loop - iterate over the training dataset and try to converge to optimal parameters.\n",
    "The Validation/Test Loop - iterate over the test dataset to check if model performance is improving."
   ]
  },
  {
   "cell_type": "markdown",
   "metadata": {
    "id": "ljsRYpuD2AVK"
   },
   "source": [
    "**Loss Function**\n",
    "\n",
    "When presented with some training data, our untrained network is likely not to give the correct answer. Loss function measures the degree of dissimilarity of obtained result to the target value, and it is the loss function that we want to minimize during training. To calculate the loss we make a prediction using the inputs of our given data sample and compare it against the true data label value.\n",
    "\n",
    "Common loss functions include nn.MSELoss (Mean Square Error) for regression tasks, and nn.NLLLoss (Negative Log Likelihood) for classification. nn.CrossEntropyLoss combines nn.LogSoftmax and nn.NLLLoss.\n",
    "\n",
    "We pass our model’s output logits to nn.CrossEntropyLoss, which will normalize the logits and compute the prediction error."
   ]
  },
  {
   "cell_type": "code",
   "execution_count": 42,
   "metadata": {
    "id": "S6BG7YLO2ET0"
   },
   "outputs": [],
   "source": [
    "# Initialize the loss function\n",
    "loss_fn = nn.CrossEntropyLoss()"
   ]
  },
  {
   "cell_type": "markdown",
   "metadata": {
    "id": "vS5WXdQ52Lqh"
   },
   "source": [
    "**Optimizer**\n",
    "\n",
    "Optimization is the process of adjusting model parameters to reduce model error in each training step. Optimization algorithms define how this process is performed (in this example we use Stochastic Gradient Descent). All optimization logic is encapsulated in the optimizer object. Here, we use the SGD optimizer; additionally, there are many different optimizers available in PyTorch such as ADAM and RMSProp, that work better for different kinds of models and data.\n",
    "\n",
    "We initialize the optimizer by registering the model’s parameters that need to be trained, and passing in the learning rate hyperparameter."
   ]
  },
  {
   "cell_type": "code",
   "execution_count": 43,
   "metadata": {
    "id": "x5iebkgD2P-z"
   },
   "outputs": [],
   "source": [
    "optimizer = torch.optim.SGD(model.parameters(), lr=learning_rate)"
   ]
  },
  {
   "cell_type": "markdown",
   "metadata": {
    "id": "iZObPvUe2Qwh"
   },
   "source": [
    "Inside the training loop, optimization happens in three steps:\n",
    "\n",
    "**Call optimizer.zero_grad() **to reset the gradients of model parameters. Gradients by default add up; to prevent double-counting, we explicitly zero them at each iteration.\n",
    "\n",
    "**Backpropagate the prediction loss with a call to loss.backwards()**. PyTorch deposits the gradients of the loss w.r.t. each parameter.\n",
    "\n",
    "Once we have our gradients, we call **optimizer.step()** to adjust the parameters by the gradients collected in the backward pass."
   ]
  },
  {
   "cell_type": "markdown",
   "metadata": {
    "id": "do20MNv52so0"
   },
   "source": [
    "**Full Implementation**\n",
    "We define train_loop that loops over our optimization code, and test_loop that evaluates the model’s performance against our test data."
   ]
  },
  {
   "cell_type": "code",
   "execution_count": 44,
   "metadata": {
    "id": "aUvIbhkU2wnU"
   },
   "outputs": [],
   "source": [
    "def train_loop(dataloader, model, loss_fn, optimizer):\n",
    "    size = len(dataloader.dataset)\n",
    "    for batch, (X, y) in enumerate(dataloader):\n",
    "        # Compute prediction and loss\n",
    "        pred = model(X)\n",
    "        loss = loss_fn(pred, y)\n",
    "\n",
    "        # Backpropagation\n",
    "        optimizer.zero_grad()\n",
    "        loss.backward()\n",
    "        optimizer.step()\n",
    "\n",
    "        if batch % 100 == 0:\n",
    "            loss, current = loss.item(), batch * len(X)\n",
    "            print(f\"loss: {loss:>7f}  [{current:>5d}/{size:>5d}]\")\n",
    "\n",
    "\n",
    "def test_loop(dataloader, model, loss_fn):\n",
    "    size = len(dataloader.dataset)\n",
    "    num_batches = len(dataloader)\n",
    "    test_loss, correct = 0, 0\n",
    "\n",
    "    with torch.no_grad():\n",
    "        for X, y in dataloader:\n",
    "            pred = model(X)\n",
    "            test_loss += loss_fn(pred, y).item()\n",
    "            correct += (pred.argmax(1) == y).type(torch.float).sum().item()\n",
    "\n",
    "    test_loss /= num_batches\n",
    "    correct /= size\n",
    "    print(f\"Test Error: \\n Accuracy: {(100*correct):>0.1f}%, Avg loss: {test_loss:>8f} \\n\")"
   ]
  },
  {
   "cell_type": "markdown",
   "metadata": {
    "id": "-C27SaC92xrK"
   },
   "source": [
    "We initialize the loss function and optimizer, and pass it to train_loop and test_loop. Feel free to increase the number of epochs to track the model’s improving performance."
   ]
  },
  {
   "cell_type": "code",
   "execution_count": 45,
   "metadata": {
    "colab": {
     "base_uri": "https://localhost:8080/"
    },
    "id": "Wpj-w15H20Fb",
    "outputId": "976a602a-4481-4b5b-882a-eeceb014e7bb"
   },
   "outputs": [
    {
     "name": "stdout",
     "output_type": "stream",
     "text": [
      "Epoch 1\n",
      "-------------------------------\n",
      "loss: 2.298683  [    0/60000]\n",
      "loss: 2.288231  [ 6400/60000]\n",
      "loss: 2.277449  [12800/60000]\n",
      "loss: 2.277650  [19200/60000]\n",
      "loss: 2.239870  [25600/60000]\n",
      "loss: 2.222322  [32000/60000]\n",
      "loss: 2.229027  [38400/60000]\n",
      "loss: 2.194194  [44800/60000]\n",
      "loss: 2.184500  [51200/60000]\n",
      "loss: 2.162957  [57600/60000]\n",
      "Test Error: \n",
      " Accuracy: 35.8%, Avg loss: 2.156059 \n",
      "\n",
      "Epoch 2\n",
      "-------------------------------\n",
      "loss: 2.151402  [    0/60000]\n",
      "loss: 2.149675  [ 6400/60000]\n",
      "loss: 2.098634  [12800/60000]\n",
      "loss: 2.125490  [19200/60000]\n",
      "loss: 2.049772  [25600/60000]\n",
      "loss: 2.001481  [32000/60000]\n",
      "loss: 2.034721  [38400/60000]\n",
      "loss: 1.951221  [44800/60000]\n",
      "loss: 1.954250  [51200/60000]\n",
      "loss: 1.895719  [57600/60000]\n",
      "Test Error: \n",
      " Accuracy: 52.6%, Avg loss: 1.890927 \n",
      "\n",
      "Epoch 3\n",
      "-------------------------------\n",
      "loss: 1.907743  [    0/60000]\n",
      "loss: 1.890003  [ 6400/60000]\n",
      "loss: 1.774450  [12800/60000]\n",
      "loss: 1.828579  [19200/60000]\n",
      "loss: 1.695666  [25600/60000]\n",
      "loss: 1.658325  [32000/60000]\n",
      "loss: 1.689165  [38400/60000]\n",
      "loss: 1.584896  [44800/60000]\n",
      "loss: 1.615145  [51200/60000]\n",
      "loss: 1.520879  [57600/60000]\n",
      "Test Error: \n",
      " Accuracy: 60.2%, Avg loss: 1.532367 \n",
      "\n",
      "Epoch 4\n",
      "-------------------------------\n",
      "loss: 1.585092  [    0/60000]\n",
      "loss: 1.560713  [ 6400/60000]\n",
      "loss: 1.410318  [12800/60000]\n",
      "loss: 1.490948  [19200/60000]\n",
      "loss: 1.358383  [25600/60000]\n",
      "loss: 1.360476  [32000/60000]\n",
      "loss: 1.378543  [38400/60000]\n",
      "loss: 1.297336  [44800/60000]\n",
      "loss: 1.337734  [51200/60000]\n",
      "loss: 1.245573  [57600/60000]\n",
      "Test Error: \n",
      " Accuracy: 62.7%, Avg loss: 1.266621 \n",
      "\n",
      "Epoch 5\n",
      "-------------------------------\n",
      "loss: 1.333056  [    0/60000]\n",
      "loss: 1.321869  [ 6400/60000]\n",
      "loss: 1.155748  [12800/60000]\n",
      "loss: 1.266592  [19200/60000]\n",
      "loss: 1.136115  [25600/60000]\n",
      "loss: 1.161878  [32000/60000]\n",
      "loss: 1.183531  [38400/60000]\n",
      "loss: 1.113219  [44800/60000]\n",
      "loss: 1.160002  [51200/60000]\n",
      "loss: 1.079084  [57600/60000]\n",
      "Test Error: \n",
      " Accuracy: 64.1%, Avg loss: 1.097801 \n",
      "\n",
      "Epoch 6\n",
      "-------------------------------\n",
      "loss: 1.159702  [    0/60000]\n",
      "loss: 1.166443  [ 6400/60000]\n",
      "loss: 0.985466  [12800/60000]\n",
      "loss: 1.124162  [19200/60000]\n",
      "loss: 0.994771  [25600/60000]\n",
      "loss: 1.025953  [32000/60000]\n",
      "loss: 1.060778  [38400/60000]\n",
      "loss: 0.993438  [44800/60000]\n",
      "loss: 1.043294  [51200/60000]\n",
      "loss: 0.973427  [57600/60000]\n",
      "Test Error: \n",
      " Accuracy: 65.3%, Avg loss: 0.987404 \n",
      "\n",
      "Epoch 7\n",
      "-------------------------------\n",
      "loss: 1.037490  [    0/60000]\n",
      "loss: 1.064033  [ 6400/60000]\n",
      "loss: 0.868218  [12800/60000]\n",
      "loss: 1.029071  [19200/60000]\n",
      "loss: 0.904541  [25600/60000]\n",
      "loss: 0.930063  [32000/60000]\n",
      "loss: 0.980022  [38400/60000]\n",
      "loss: 0.914887  [44800/60000]\n",
      "loss: 0.963044  [51200/60000]\n",
      "loss: 0.902990  [57600/60000]\n",
      "Test Error: \n",
      " Accuracy: 66.6%, Avg loss: 0.912355 \n",
      "\n",
      "Epoch 8\n",
      "-------------------------------\n",
      "loss: 0.947534  [    0/60000]\n",
      "loss: 0.993550  [ 6400/60000]\n",
      "loss: 0.785109  [12800/60000]\n",
      "loss: 0.962655  [19200/60000]\n",
      "loss: 0.844461  [25600/60000]\n",
      "loss: 0.860308  [32000/60000]\n",
      "loss: 0.923879  [38400/60000]\n",
      "loss: 0.862603  [44800/60000]\n",
      "loss: 0.905738  [51200/60000]\n",
      "loss: 0.853286  [57600/60000]\n",
      "Test Error: \n",
      " Accuracy: 67.8%, Avg loss: 0.858975 \n",
      "\n",
      "Epoch 9\n",
      "-------------------------------\n",
      "loss: 0.879494  [    0/60000]\n",
      "loss: 0.941692  [ 6400/60000]\n",
      "loss: 0.723828  [12800/60000]\n",
      "loss: 0.913970  [19200/60000]\n",
      "loss: 0.802068  [25600/60000]\n",
      "loss: 0.808346  [32000/60000]\n",
      "loss: 0.882091  [38400/60000]\n",
      "loss: 0.826587  [44800/60000]\n",
      "loss: 0.863449  [51200/60000]\n",
      "loss: 0.816212  [57600/60000]\n",
      "Test Error: \n",
      " Accuracy: 68.8%, Avg loss: 0.819096 \n",
      "\n",
      "Epoch 10\n",
      "-------------------------------\n",
      "loss: 0.825798  [    0/60000]\n",
      "loss: 0.900941  [ 6400/60000]\n",
      "loss: 0.676757  [12800/60000]\n",
      "loss: 0.876832  [19200/60000]\n",
      "loss: 0.769964  [25600/60000]\n",
      "loss: 0.768702  [32000/60000]\n",
      "loss: 0.848719  [38400/60000]\n",
      "loss: 0.800275  [44800/60000]\n",
      "loss: 0.830786  [51200/60000]\n",
      "loss: 0.786992  [57600/60000]\n",
      "Test Error: \n",
      " Accuracy: 70.3%, Avg loss: 0.787761 \n",
      "\n",
      "Done!\n"
     ]
    }
   ],
   "source": [
    "loss_fn = nn.CrossEntropyLoss()\n",
    "optimizer = torch.optim.SGD(model.parameters(), lr=learning_rate)\n",
    "\n",
    "epochs = 10\n",
    "for t in range(epochs):\n",
    "    print(f\"Epoch {t+1}\\n-------------------------------\")\n",
    "    train_loop(train_dataloader, model, loss_fn, optimizer)\n",
    "    test_loop(test_dataloader, model, loss_fn)\n",
    "print(\"Done!\")"
   ]
  }
 ],
 "metadata": {
  "interpreter": {
   "hash": "d6f86c6bc9c9469b2c84cfe0cb33110478d210a1f255f386dfb189826f594413"
  },
  "kernelspec": {
   "display_name": "Python 3.7.11 64-bit ('machinelearning': conda)",
   "language": "python",
   "name": "python3"
  },
  "language_info": {
   "codemirror_mode": {
    "name": "ipython",
    "version": 3
   },
   "file_extension": ".py",
   "mimetype": "text/x-python",
   "name": "python",
   "nbconvert_exporter": "python",
   "pygments_lexer": "ipython3",
   "version": "3.7.11"
  },
  "orig_nbformat": 4
 },
 "nbformat": 4,
 "nbformat_minor": 2
}
